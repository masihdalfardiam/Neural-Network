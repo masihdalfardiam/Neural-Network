{
  "cells": [
    {
      "cell_type": "markdown",
      "metadata": {
        "id": "8eLTfW7PW64O"
      },
      "source": [
        "### Install Required Libs"
      ]
    },
    {
      "cell_type": "code",
      "execution_count": 1,
      "metadata": {
        "colab": {
          "base_uri": "https://localhost:8080/"
        },
        "id": "lcGfoc7UW64Q",
        "outputId": "b5657418-b4e5-4e82-e774-3cf355439a3d"
      },
      "outputs": [
        {
          "output_type": "stream",
          "name": "stdout",
          "text": [
            "Requirement already satisfied: numpy in /usr/local/lib/python3.10/dist-packages (1.25.2)\n",
            "Requirement already satisfied: matplotlib in /usr/local/lib/python3.10/dist-packages (3.7.1)\n",
            "Requirement already satisfied: contourpy>=1.0.1 in /usr/local/lib/python3.10/dist-packages (from matplotlib) (1.2.1)\n",
            "Requirement already satisfied: cycler>=0.10 in /usr/local/lib/python3.10/dist-packages (from matplotlib) (0.12.1)\n",
            "Requirement already satisfied: fonttools>=4.22.0 in /usr/local/lib/python3.10/dist-packages (from matplotlib) (4.51.0)\n",
            "Requirement already satisfied: kiwisolver>=1.0.1 in /usr/local/lib/python3.10/dist-packages (from matplotlib) (1.4.5)\n",
            "Requirement already satisfied: numpy>=1.20 in /usr/local/lib/python3.10/dist-packages (from matplotlib) (1.25.2)\n",
            "Requirement already satisfied: packaging>=20.0 in /usr/local/lib/python3.10/dist-packages (from matplotlib) (24.0)\n",
            "Requirement already satisfied: pillow>=6.2.0 in /usr/local/lib/python3.10/dist-packages (from matplotlib) (9.4.0)\n",
            "Requirement already satisfied: pyparsing>=2.3.1 in /usr/local/lib/python3.10/dist-packages (from matplotlib) (3.1.2)\n",
            "Requirement already satisfied: python-dateutil>=2.7 in /usr/local/lib/python3.10/dist-packages (from matplotlib) (2.8.2)\n",
            "Requirement already satisfied: six>=1.5 in /usr/local/lib/python3.10/dist-packages (from python-dateutil>=2.7->matplotlib) (1.16.0)\n",
            "Requirement already satisfied: torch in /usr/local/lib/python3.10/dist-packages (2.2.1+cu121)\n",
            "Requirement already satisfied: torchvision in /usr/local/lib/python3.10/dist-packages (0.17.1+cu121)\n",
            "Requirement already satisfied: torchaudio in /usr/local/lib/python3.10/dist-packages (2.2.1+cu121)\n",
            "Requirement already satisfied: tqdm in /usr/local/lib/python3.10/dist-packages (4.66.2)\n",
            "Requirement already satisfied: filelock in /usr/local/lib/python3.10/dist-packages (from torch) (3.13.4)\n",
            "Requirement already satisfied: typing-extensions>=4.8.0 in /usr/local/lib/python3.10/dist-packages (from torch) (4.11.0)\n",
            "Requirement already satisfied: sympy in /usr/local/lib/python3.10/dist-packages (from torch) (1.12)\n",
            "Requirement already satisfied: networkx in /usr/local/lib/python3.10/dist-packages (from torch) (3.3)\n",
            "Requirement already satisfied: jinja2 in /usr/local/lib/python3.10/dist-packages (from torch) (3.1.3)\n",
            "Requirement already satisfied: fsspec in /usr/local/lib/python3.10/dist-packages (from torch) (2023.6.0)\n",
            "Collecting nvidia-cuda-nvrtc-cu12==12.1.105 (from torch)\n",
            "  Using cached nvidia_cuda_nvrtc_cu12-12.1.105-py3-none-manylinux1_x86_64.whl (23.7 MB)\n",
            "Collecting nvidia-cuda-runtime-cu12==12.1.105 (from torch)\n",
            "  Using cached nvidia_cuda_runtime_cu12-12.1.105-py3-none-manylinux1_x86_64.whl (823 kB)\n",
            "Collecting nvidia-cuda-cupti-cu12==12.1.105 (from torch)\n",
            "  Using cached nvidia_cuda_cupti_cu12-12.1.105-py3-none-manylinux1_x86_64.whl (14.1 MB)\n",
            "Collecting nvidia-cudnn-cu12==8.9.2.26 (from torch)\n",
            "  Using cached nvidia_cudnn_cu12-8.9.2.26-py3-none-manylinux1_x86_64.whl (731.7 MB)\n",
            "Collecting nvidia-cublas-cu12==12.1.3.1 (from torch)\n",
            "  Using cached nvidia_cublas_cu12-12.1.3.1-py3-none-manylinux1_x86_64.whl (410.6 MB)\n",
            "Collecting nvidia-cufft-cu12==11.0.2.54 (from torch)\n",
            "  Using cached nvidia_cufft_cu12-11.0.2.54-py3-none-manylinux1_x86_64.whl (121.6 MB)\n",
            "Collecting nvidia-curand-cu12==10.3.2.106 (from torch)\n",
            "  Using cached nvidia_curand_cu12-10.3.2.106-py3-none-manylinux1_x86_64.whl (56.5 MB)\n",
            "Collecting nvidia-cusolver-cu12==11.4.5.107 (from torch)\n",
            "  Using cached nvidia_cusolver_cu12-11.4.5.107-py3-none-manylinux1_x86_64.whl (124.2 MB)\n",
            "Collecting nvidia-cusparse-cu12==12.1.0.106 (from torch)\n",
            "  Using cached nvidia_cusparse_cu12-12.1.0.106-py3-none-manylinux1_x86_64.whl (196.0 MB)\n",
            "Collecting nvidia-nccl-cu12==2.19.3 (from torch)\n",
            "  Using cached nvidia_nccl_cu12-2.19.3-py3-none-manylinux1_x86_64.whl (166.0 MB)\n",
            "Collecting nvidia-nvtx-cu12==12.1.105 (from torch)\n",
            "  Using cached nvidia_nvtx_cu12-12.1.105-py3-none-manylinux1_x86_64.whl (99 kB)\n",
            "Requirement already satisfied: triton==2.2.0 in /usr/local/lib/python3.10/dist-packages (from torch) (2.2.0)\n",
            "Collecting nvidia-nvjitlink-cu12 (from nvidia-cusolver-cu12==11.4.5.107->torch)\n",
            "  Using cached nvidia_nvjitlink_cu12-12.4.127-py3-none-manylinux2014_x86_64.whl (21.1 MB)\n",
            "Requirement already satisfied: numpy in /usr/local/lib/python3.10/dist-packages (from torchvision) (1.25.2)\n",
            "Requirement already satisfied: pillow!=8.3.*,>=5.3.0 in /usr/local/lib/python3.10/dist-packages (from torchvision) (9.4.0)\n",
            "Requirement already satisfied: MarkupSafe>=2.0 in /usr/local/lib/python3.10/dist-packages (from jinja2->torch) (2.1.5)\n",
            "Requirement already satisfied: mpmath>=0.19 in /usr/local/lib/python3.10/dist-packages (from sympy->torch) (1.3.0)\n",
            "Installing collected packages: nvidia-nvtx-cu12, nvidia-nvjitlink-cu12, nvidia-nccl-cu12, nvidia-curand-cu12, nvidia-cufft-cu12, nvidia-cuda-runtime-cu12, nvidia-cuda-nvrtc-cu12, nvidia-cuda-cupti-cu12, nvidia-cublas-cu12, nvidia-cusparse-cu12, nvidia-cudnn-cu12, nvidia-cusolver-cu12\n",
            "Successfully installed nvidia-cublas-cu12-12.1.3.1 nvidia-cuda-cupti-cu12-12.1.105 nvidia-cuda-nvrtc-cu12-12.1.105 nvidia-cuda-runtime-cu12-12.1.105 nvidia-cudnn-cu12-8.9.2.26 nvidia-cufft-cu12-11.0.2.54 nvidia-curand-cu12-10.3.2.106 nvidia-cusolver-cu12-11.4.5.107 nvidia-cusparse-cu12-12.1.0.106 nvidia-nccl-cu12-2.19.3 nvidia-nvjitlink-cu12-12.4.127 nvidia-nvtx-cu12-12.1.105\n"
          ]
        }
      ],
      "source": [
        "# only local run: install required libs (recommended python version 3.10)\n",
        "%pip install numpy\n",
        "%pip install matplotlib\n",
        "%pip install torch torchvision torchaudio tqdm"
      ]
    },
    {
      "cell_type": "markdown",
      "metadata": {
        "id": "l8YnH1inW64S"
      },
      "source": [
        "### Import Libs"
      ]
    },
    {
      "cell_type": "code",
      "execution_count": null,
      "metadata": {
        "id": "12zA_2S-W64T"
      },
      "outputs": [],
      "source": [
        "import torch\n",
        "import torch.nn as nn\n",
        "import torch.nn.functional as Functions\n",
        "import torch.optim as Optimizers\n",
        "\n",
        "from torchvision.datasets import CIFAR10\n",
        "from torchvision.transforms import ToTensor\n",
        "from torch.utils.data import DataLoader\n",
        "from tqdm.auto import tqdm\n",
        "\n",
        "import matplotlib.pyplot as plt"
      ]
    },
    {
      "cell_type": "markdown",
      "metadata": {
        "id": "OuyPTc6fW64T"
      },
      "source": [
        "### Set Device\n",
        "You can use GPU instead of CPU for faster calculation!"
      ]
    },
    {
      "cell_type": "code",
      "execution_count": null,
      "metadata": {
        "colab": {
          "base_uri": "https://localhost:8080/"
        },
        "id": "s9cifzINW64T",
        "outputId": "dbe2ca3f-4052-41ea-fb0d-4c12cc775570"
      },
      "outputs": [
        {
          "output_type": "stream",
          "name": "stdout",
          "text": [
            "cuda\n"
          ]
        }
      ],
      "source": [
        "device = \"cuda\" if torch.cuda.is_available() else \"cpu\"\n",
        "print(device)"
      ]
    },
    {
      "cell_type": "markdown",
      "metadata": {
        "id": "j-2C_MYAW64U"
      },
      "source": [
        "**cpu**"
      ]
    },
    {
      "cell_type": "markdown",
      "metadata": {
        "id": "zBtyOOalW64U"
      },
      "source": [
        "### Download CIFAR-10 Dataset and Transform to Tensor"
      ]
    },
    {
      "cell_type": "code",
      "execution_count": null,
      "metadata": {
        "colab": {
          "base_uri": "https://localhost:8080/"
        },
        "id": "SVZfB7CxW64U",
        "outputId": "575869df-19a1-4789-ba10-a259a7d190e4"
      },
      "outputs": [
        {
          "output_type": "stream",
          "name": "stdout",
          "text": [
            "Downloading https://www.cs.toronto.edu/~kriz/cifar-10-python.tar.gz to Data/cifar-10-python.tar.gz\n"
          ]
        },
        {
          "output_type": "stream",
          "name": "stderr",
          "text": [
            "100%|██████████| 170498071/170498071 [00:01<00:00, 95601015.79it/s] \n"
          ]
        },
        {
          "output_type": "stream",
          "name": "stdout",
          "text": [
            "Extracting Data/cifar-10-python.tar.gz to Data/\n",
            "Files already downloaded and verified\n"
          ]
        }
      ],
      "source": [
        "transform = ToTensor()\n",
        "\n",
        "\"Set download=True to download dataset online\"\n",
        "data_path = 'Data/'\n",
        "cifar10_train = CIFAR10(root=data_path, train=True, download=True, transform=transform)\n",
        "cifar10_test = CIFAR10(data_path, train=False, download=True, transform=transform)"
      ]
    },
    {
      "cell_type": "markdown",
      "metadata": {
        "id": "tLx6r1grW64V"
      },
      "source": [
        "### A Brief View on Data"
      ]
    },
    {
      "cell_type": "code",
      "execution_count": null,
      "metadata": {
        "colab": {
          "base_uri": "https://localhost:8080/"
        },
        "id": "rXapPxNQW64V",
        "outputId": "82f96d13-c25a-40ac-9e5b-42794aa68de9"
      },
      "outputs": [
        {
          "output_type": "stream",
          "name": "stdout",
          "text": [
            "Training:  50000\n",
            "Testing:  10000\n",
            "<class 'tuple'>\n",
            "<class 'torch.Tensor'>\n",
            "torch.Size([3, 32, 32])\n",
            "['airplane', 'automobile', 'bird', 'cat', 'deer', 'dog', 'frog', 'horse', 'ship', 'truck']\n",
            "6\n",
            "frog\n"
          ]
        }
      ],
      "source": [
        "# size of training and test sets\n",
        "print(\"Training: \", len(cifar10_train))\n",
        "print(\"Testing: \", len(cifar10_test))\n",
        "\n",
        "# type of train and test: it is a collection of tuple(tensor, label)\n",
        "print(type(cifar10_train[0]))\n",
        "\n",
        "# label, as you know, is the class of image\n",
        "# tensor contains image data (You will learn more about Tensor later)\n",
        "image, label = cifar10_train[0]\n",
        "print(type(image))\n",
        "\n",
        "# lets check the dimension - it is a 32x32 RGB image\n",
        "print(image.shape)\n",
        "\n",
        "# lets see what classes we have\n",
        "classes = cifar10_train.classes\n",
        "print(classes)\n",
        "print(label)\n",
        "print(classes[label])"
      ]
    },
    {
      "cell_type": "markdown",
      "metadata": {
        "id": "BVbJNR-MW64W"
      },
      "source": [
        "*Training:  50000*\n",
        "\n",
        "*Testing:  10000*\n",
        "\n",
        "*<class 'tuple'>*\n",
        "\n",
        "*<class 'torch.Tensor'>*\n",
        "\n",
        "*torch.Size([3, 32, 32])*\n",
        "\n",
        "*['airplane', 'automobile', 'bird', 'cat', 'deer', 'dog', 'frog', 'horse', 'ship', 'truck']*\n",
        "\n",
        "*6*\n",
        "\n",
        "*frog*"
      ]
    },
    {
      "cell_type": "markdown",
      "metadata": {
        "id": "vRRgMZqcW64W"
      },
      "source": [
        "### Define Batch Size\n",
        "It is important to understand that to build the Neural Network we will work with a large number of parameters. For this reason, it makes sense to load training data in batches."
      ]
    },
    {
      "cell_type": "code",
      "execution_count": null,
      "metadata": {
        "id": "uJwTOs4EW64W"
      },
      "outputs": [],
      "source": [
        "# I will set this to a medium amount!\n",
        "## Beacuse I want to avoid Long time training\n",
        "### And also want to have a good Acuracy too!\n",
        "\n",
        "train_loader = DataLoader(cifar10_train, batch_size = 32,  shuffle=True)\n",
        "test_loader = DataLoader(cifar10_test, batch_size = 32, shuffle=False)"
      ]
    },
    {
      "cell_type": "markdown",
      "metadata": {
        "id": "ryd1W7RzW64X"
      },
      "source": [
        "### Define Model\n",
        "Here you need to define your model architecture, use your knowledge of ANN to design one."
      ]
    },
    {
      "cell_type": "code",
      "execution_count": null,
      "metadata": {
        "id": "eyFq3CZqW64X"
      },
      "outputs": [],
      "source": [
        "class Model(nn.Module):\n",
        "    def __init__(self):\n",
        "        super(Model, self).__init__()\n",
        "        self.fc1 = nn.Linear(3072, 1536)  # input layer\n",
        "        self.fc2 = nn.Linear(1536, 512)  # hidden layer 1\n",
        "        self.fc3 = nn.Linear(512, 128)  # hidden layer 2\n",
        "        self.fc4 = nn.Linear(128, 10)  # output layer\n",
        "        self.dropout = nn.Dropout(0.5)\n",
        "        self.batch_norm1 = nn.BatchNorm1d(1536) # normalize for better performance\n",
        "        self.batch_norm2 = nn.BatchNorm1d(512)# normalize for better performance\n",
        "        self.batch_norm3 = nn.BatchNorm1d(128)# normalize for better performance\n",
        "\n",
        "    def forward(self, x):\n",
        "        x = x.view(x.size(0), -1)  # Flatten the image\n",
        "        x = Functions.relu(self.batch_norm1(self.fc1(x)))\n",
        "        x = self.dropout(x)\n",
        "        x = Functions.relu(self.batch_norm2(self.fc2(x)))\n",
        "        x = self.dropout(x)\n",
        "        x = Functions.relu(self.batch_norm3(self.fc3(x)))\n",
        "        x = self.fc4(x) # No activation, raw output for Cross-Entropy\n",
        "        return x"
      ]
    },
    {
      "cell_type": "markdown",
      "metadata": {
        "id": "2dVUeuUbW64X"
      },
      "source": [
        "### Create Model"
      ]
    },
    {
      "cell_type": "code",
      "execution_count": null,
      "metadata": {
        "colab": {
          "base_uri": "https://localhost:8080/"
        },
        "id": "ZY-7JVfVW64Y",
        "outputId": "a1532271-4624-46f2-fb9d-c25870207cbf"
      },
      "outputs": [
        {
          "output_type": "execute_result",
          "data": {
            "text/plain": [
              "Model(\n",
              "  (fc1): Linear(in_features=3072, out_features=1536, bias=True)\n",
              "  (fc2): Linear(in_features=1536, out_features=512, bias=True)\n",
              "  (fc3): Linear(in_features=512, out_features=128, bias=True)\n",
              "  (fc4): Linear(in_features=128, out_features=10, bias=True)\n",
              "  (dropout): Dropout(p=0.5, inplace=False)\n",
              "  (batch_norm1): BatchNorm1d(1536, eps=1e-05, momentum=0.1, affine=True, track_running_stats=True)\n",
              "  (batch_norm2): BatchNorm1d(512, eps=1e-05, momentum=0.1, affine=True, track_running_stats=True)\n",
              "  (batch_norm3): BatchNorm1d(128, eps=1e-05, momentum=0.1, affine=True, track_running_stats=True)\n",
              ")"
            ]
          },
          "metadata": {},
          "execution_count": 39
        }
      ],
      "source": [
        "model = Model().to(device)\n",
        "model"
      ]
    },
    {
      "cell_type": "markdown",
      "metadata": {
        "id": "cmkjZczDW64Y"
      },
      "source": [
        "Model(\n",
        "\n",
        "  (fc1): Linear(in_features=3072, out_features=1536, bias=True)\n",
        "\n",
        "  (fc2): Linear(in_features=1536, out_features=512, bias=True)\n",
        "\n",
        "  (fc3): Linear(in_features=512, out_features=128, bias=True)\n",
        "\n",
        "  (fc4): Linear(in_features=128, out_features=10, bias=True)\n",
        "\n",
        "  (dropout): Dropout(p=0.5, inplace=False)\n",
        "\n",
        "  (batch_norm1): BatchNorm1d(1536, eps=1e-05, momentum=0.1, affine=True, track_running_stats=True)\n",
        "\n",
        "  (batch_norm2): BatchNorm1d(512, eps=1e-05, momentum=0.1, affine=True, track_running_stats=True)\n",
        "  \n",
        "  (batch_norm3): BatchNorm1d(128, eps=1e-05, momentum=0.1, affine=True, track_running_stats=True)\n",
        ")"
      ]
    },
    {
      "cell_type": "markdown",
      "metadata": {
        "id": "l6h7TbOMW64Y"
      },
      "source": [
        "### Choose a Loss Function"
      ]
    },
    {
      "cell_type": "code",
      "execution_count": null,
      "metadata": {
        "id": "te6S4cddW64Z"
      },
      "outputs": [],
      "source": [
        "criterion = nn.CrossEntropyLoss() # Beacuse it is classification task"
      ]
    },
    {
      "cell_type": "markdown",
      "metadata": {
        "id": "Mxx83GuYW64Z"
      },
      "source": [
        "### Choose an Optimizer"
      ]
    },
    {
      "cell_type": "code",
      "execution_count": null,
      "metadata": {
        "id": "b0nj8srFW64Z"
      },
      "outputs": [],
      "source": [
        "optimizer = torch.optim.Adam(model.parameters(), lr=0.0005)"
      ]
    },
    {
      "cell_type": "markdown",
      "metadata": {
        "id": "Qo6suaBOW64Z"
      },
      "source": [
        "**I Already test these:**\n",
        "\n",
        "**optimizer = torch.optim.AdamW(model.parameters(), lr=0.001)**\n",
        "\n",
        "**criterion = nn.NLLLoss()**\n",
        "\n",
        "**And Not well result!**\n"
      ]
    },
    {
      "cell_type": "markdown",
      "metadata": {
        "id": "QRv5T3TJW64a"
      },
      "source": [
        "### Training Model\n",
        "After configuring all required parameters, it is time to train your model!"
      ]
    },
    {
      "cell_type": "code",
      "execution_count": null,
      "metadata": {
        "colab": {
          "base_uri": "https://localhost:8080/",
          "height": 49,
          "referenced_widgets": [
            "1bc3ae127a0d4538a3b04948e82c8d31",
            "23cef0ffbba749469dad146cdbf18057",
            "ddd2f85e01cc4f59873cf6297e6cf9b5",
            "f10eb546e4fc4208be2a11dd134bbf9c",
            "2f52f0c75a4d456496ef489e917236de",
            "b2ab3c78a8ff4a1ca01ce4cb4a3352df",
            "f80f7061edb944cdbd61c0a3b3ac4866",
            "0b11ba024969451e85ec320e6f791978",
            "24ad3b5af76c4e8e84639e363678155c",
            "6e292b5338b649d382092b940fc190e1",
            "7b7b4194824e4c7da04fcff1c0a4e31f"
          ]
        },
        "id": "pP4zKkUfW64a",
        "outputId": "93099ee1-4dfa-426a-be38-90be97e2c3b2"
      },
      "outputs": [
        {
          "output_type": "display_data",
          "data": {
            "text/plain": [
              "  0%|          | 0/20 [00:00<?, ?it/s]"
            ],
            "application/vnd.jupyter.widget-view+json": {
              "version_major": 2,
              "version_minor": 0,
              "model_id": "1bc3ae127a0d4538a3b04948e82c8d31"
            }
          },
          "metadata": {}
        }
      ],
      "source": [
        "\"TODO: set an optimal epoch\"\n",
        "EPOCHS = 20\n",
        "\n",
        "\" you don't need to change the rest of this code\"\n",
        "\n",
        "train_correct  = []\n",
        "test_correct = []\n",
        "\n",
        "best_train_acc = 0\n",
        "best_test_acc = 0\n",
        "\n",
        "for e in tqdm(range(EPOCHS)):\n",
        "\n",
        "  trn_corr = 0\n",
        "  tst_corr = 0\n",
        "\n",
        "  # training\n",
        "  model.train()\n",
        "  for X_train, y_train in train_loader:\n",
        "\n",
        "    X_train_dev = torch.autograd.Variable(X_train).to(device)\n",
        "    y_train_dev = torch.autograd.Variable(y_train).to(device)\n",
        "\n",
        "    optimizer.zero_grad()\n",
        "\n",
        "    y_pred_dev = model(X_train_dev)\n",
        "    loss = criterion(y_pred_dev, y_train_dev)\n",
        "\n",
        "    loss.backward()\n",
        "    optimizer.step()\n",
        "\n",
        "    predicted = torch.argmax(y_pred_dev, 1)\n",
        "    trn_corr += torch.sum(predicted == y_train_dev)\n",
        "\n",
        "  acc = (trn_corr/len(cifar10_train)).item()\n",
        "  best_train_acc = acc if(best_train_acc < acc) else best_train_acc\n",
        "  train_correct.append(acc)\n",
        "\n",
        "  # testing\n",
        "  model.eval()\n",
        "  for X_test, y_test in test_loader:\n",
        "\n",
        "    X_test = X_test.to(device)\n",
        "    y_test = y_test.to(device)\n",
        "\n",
        "    predicted = model(X_test)\n",
        "    predicted = torch.argmax(predicted, 1)\n",
        "    tst_corr += torch.sum(predicted == y_test)\n",
        "\n",
        "  acc = (tst_corr/len(cifar10_test)).item()\n",
        "  best_test_acc = acc if(best_test_acc < acc) else best_test_acc\n",
        "  test_correct.append(acc)"
      ]
    },
    {
      "cell_type": "markdown",
      "metadata": {
        "id": "6XkX8pLrW64b"
      },
      "source": [
        "*100%|██████████| 10/10 [20:17<00:00, 121.75s/it]*"
      ]
    },
    {
      "cell_type": "markdown",
      "source": [],
      "metadata": {
        "id": "5KtEal_naRf-"
      }
    },
    {
      "cell_type": "markdown",
      "metadata": {
        "id": "UqV1pva1W64b"
      },
      "source": [
        "**I was tested the different EPOCHS, And the decrease of it causes the less accuracy,**\n",
        "\n",
        "**And Increasing it, takes much time to model be trined!**"
      ]
    },
    {
      "cell_type": "markdown",
      "metadata": {
        "id": "Lx1qYCjGW64b"
      },
      "source": [
        "### Evaluation\n",
        "Here you can see your model performance."
      ]
    },
    {
      "cell_type": "code",
      "execution_count": null,
      "metadata": {
        "colab": {
          "base_uri": "https://localhost:8080/",
          "height": 501
        },
        "id": "FFQFH7-pW64b",
        "outputId": "f4c5bfcd-de86-48d7-8104-5f6c4a2d587d"
      },
      "outputs": [
        {
          "output_type": "display_data",
          "data": {
            "text/plain": [
              "<Figure size 640x480 with 1 Axes>"
            ],
            "image/png": "[encoded data removed]"
          },
          "metadata": {}
        },
        {
          "output_type": "stream",
          "name": "stdout",
          "text": [
            "\n",
            "On train - best accuracy: 0.66, final accuracy: 0.66\n",
            "On test - best accuracy: 0.59, final accuracy: 0.59\n"
          ]
        }
      ],
      "source": [
        "plt.plot(train_correct, label='train accuracy')\n",
        "plt.plot(test_correct, label = 'test accuracy')\n",
        "plt.xlabel('Epoch')\n",
        "plt.ylabel('Accuracy')\n",
        "plt.legend(loc='lower right')\n",
        "plt.show();\n",
        "\n",
        "print(\"\\nOn train - best accuracy: {:.2f}, final accuracy: {:.2f}\".format(best_train_acc, train_correct[-1]))\n",
        "print(\"On test - best accuracy: {:.2f}, final accuracy: {:.2f}\".format(best_test_acc, test_correct[-1]))"
      ]
    },
    {
      "cell_type": "markdown",
      "metadata": {
        "id": "h_3tToqQW64c"
      },
      "source": [
        "\n",
        "**On train - best accuracy: 0.66, final accuracy: 0.66**\n",
        "\n",
        "**On test - best accuracy: 0.59, final accuracy: 0.59**"
      ]
    },
    {
      "cell_type": "markdown",
      "metadata": {
        "id": "XIxXJfS6W64c"
      },
      "source": [
        "When The best accuracy is the same as final, It is a good thing!\n",
        "\n",
        "Because it is indicates that the model still has potential to be trained .."
      ]
    }
  ],
  "metadata": {
    "kernelspec": {
      "display_name": "Python 3",
      "name": "python3"
    },
    "language_info": {
      "codemirror_mode": {
        "name": "ipython",
        "version": 3
      },
      "file_extension": ".py",
      "mimetype": "text/x-python",
      "name": "python",
      "nbconvert_exporter": "python",
      "pygments_lexer": "ipython3",
      "version": "3.11.8"
    },
    "colab": {
      "provenance": [],
      "gpuType": "T4"
    },
    "accelerator": "GPU",
    "widgets": {
      "application/vnd.jupyter.widget-state+json": {
        "1bc3ae127a0d4538a3b04948e82c8d31": {
          "model_module": "@jupyter-widgets/controls",
          "model_name": "HBoxModel",
          "model_module_version": "1.5.0",
          "state": {
            "_dom_classes": [],
            "_model_module": "@jupyter-widgets/controls",
            "_model_module_version": "1.5.0",
            "_model_name": "HBoxModel",
            "_view_count": null,
            "_view_module": "@jupyter-widgets/controls",
            "_view_module_version": "1.5.0",
            "_view_name": "HBoxView",
            "box_style": "",
            "children": [
              "IPY_MODEL_23cef0ffbba749469dad146cdbf18057",
              "IPY_MODEL_ddd2f85e01cc4f59873cf6297e6cf9b5",
              "IPY_MODEL_f10eb546e4fc4208be2a11dd134bbf9c"
            ],
            "layout": "IPY_MODEL_2f52f0c75a4d456496ef489e917236de"
          }
        },
        "23cef0ffbba749469dad146cdbf18057": {
          "model_module": "@jupyter-widgets/controls",
          "model_name": "HTMLModel",
          "model_module_version": "1.5.0",
          "state": {
            "_dom_classes": [],
            "_model_module": "@jupyter-widgets/controls",
            "_model_module_version": "1.5.0",
            "_model_name": "HTMLModel",
            "_view_count": null,
            "_view_module": "@jupyter-widgets/controls",
            "_view_module_version": "1.5.0",
            "_view_name": "HTMLView",
            "description": "",
            "description_tooltip": null,
            "layout": "IPY_MODEL_b2ab3c78a8ff4a1ca01ce4cb4a3352df",
            "placeholder": "​",
            "style": "IPY_MODEL_f80f7061edb944cdbd61c0a3b3ac4866",
            "value": "100%"
          }
        },
        "ddd2f85e01cc4f59873cf6297e6cf9b5": {
          "model_module": "@jupyter-widgets/controls",
          "model_name": "FloatProgressModel",
          "model_module_version": "1.5.0",
          "state": {
            "_dom_classes": [],
            "_model_module": "@jupyter-widgets/controls",
            "_model_module_version": "1.5.0",
            "_model_name": "FloatProgressModel",
            "_view_count": null,
            "_view_module": "@jupyter-widgets/controls",
            "_view_module_version": "1.5.0",
            "_view_name": "ProgressView",
            "bar_style": "success",
            "description": "",
            "description_tooltip": null,
            "layout": "IPY_MODEL_0b11ba024969451e85ec320e6f791978",
            "max": 20,
            "min": 0,
            "orientation": "horizontal",
            "style": "IPY_MODEL_24ad3b5af76c4e8e84639e363678155c",
            "value": 20
          }
        },
        "f10eb546e4fc4208be2a11dd134bbf9c": {
          "model_module": "@jupyter-widgets/controls",
          "model_name": "HTMLModel",
          "model_module_version": "1.5.0",
          "state": {
            "_dom_classes": [],
            "_model_module": "@jupyter-widgets/controls",
            "_model_module_version": "1.5.0",
            "_model_name": "HTMLModel",
            "_view_count": null,
            "_view_module": "@jupyter-widgets/controls",
            "_view_module_version": "1.5.0",
            "_view_name": "HTMLView",
            "description": "",
            "description_tooltip": null,
            "layout": "IPY_MODEL_6e292b5338b649d382092b940fc190e1",
            "placeholder": "​",
            "style": "IPY_MODEL_7b7b4194824e4c7da04fcff1c0a4e31f",
            "value": " 20/20 [04:20&lt;00:00, 13.23s/it]"
          }
        },
        "2f52f0c75a4d456496ef489e917236de": {
          "model_module": "@jupyter-widgets/base",
          "model_name": "LayoutModel",
          "model_module_version": "1.2.0",
          "state": {
            "_model_module": "@jupyter-widgets/base",
            "_model_module_version": "1.2.0",
            "_model_name": "LayoutModel",
            "_view_count": null,
            "_view_module": "@jupyter-widgets/base",
            "_view_module_version": "1.2.0",
            "_view_name": "LayoutView",
            "align_content": null,
            "align_items": null,
            "align_self": null,
            "border": null,
            "bottom": null,
            "display": null,
            "flex": null,
            "flex_flow": null,
            "grid_area": null,
            "grid_auto_columns": null,
            "grid_auto_flow": null,
            "grid_auto_rows": null,
            "grid_column": null,
            "grid_gap": null,
            "grid_row": null,
            "grid_template_areas": null,
            "grid_template_columns": null,
            "grid_template_rows": null,
            "height": null,
            "justify_content": null,
            "justify_items": null,
            "left": null,
            "margin": null,
            "max_height": null,
            "max_width": null,
            "min_height": null,
            "min_width": null,
            "object_fit": null,
            "object_position": null,
            "order": null,
            "overflow": null,
            "overflow_x": null,
            "overflow_y": null,
            "padding": null,
            "right": null,
            "top": null,
            "visibility": null,
            "width": null
          }
        },
        "b2ab3c78a8ff4a1ca01ce4cb4a3352df": {
          "model_module": "@jupyter-widgets/base",
          "model_name": "LayoutModel",
          "model_module_version": "1.2.0",
          "state": {
            "_model_module": "@jupyter-widgets/base",
            "_model_module_version": "1.2.0",
            "_model_name": "LayoutModel",
            "_view_count": null,
            "_view_module": "@jupyter-widgets/base",
            "_view_module_version": "1.2.0",
            "_view_name": "LayoutView",
            "align_content": null,
            "align_items": null,
            "align_self": null,
            "border": null,
            "bottom": null,
            "display": null,
            "flex": null,
            "flex_flow": null,
            "grid_area": null,
            "grid_auto_columns": null,
            "grid_auto_flow": null,
            "grid_auto_rows": null,
            "grid_column": null,
            "grid_gap": null,
            "grid_row": null,
            "grid_template_areas": null,
            "grid_template_columns": null,
            "grid_template_rows": null,
            "height": null,
            "justify_content": null,
            "justify_items": null,
            "left": null,
            "margin": null,
            "max_height": null,
            "max_width": null,
            "min_height": null,
            "min_width": null,
            "object_fit": null,
            "object_position": null,
            "order": null,
            "overflow": null,
            "overflow_x": null,
            "overflow_y": null,
            "padding": null,
            "right": null,
            "top": null,
            "visibility": null,
            "width": null
          }
        },
        "f80f7061edb944cdbd61c0a3b3ac4866": {
          "model_module": "@jupyter-widgets/controls",
          "model_name": "DescriptionStyleModel",
          "model_module_version": "1.5.0",
          "state": {
            "_model_module": "@jupyter-widgets/controls",
            "_model_module_version": "1.5.0",
            "_model_name": "DescriptionStyleModel",
            "_view_count": null,
            "_view_module": "@jupyter-widgets/base",
            "_view_module_version": "1.2.0",
            "_view_name": "StyleView",
            "description_width": ""
          }
        },
        "0b11ba024969451e85ec320e6f791978": {
          "model_module": "@jupyter-widgets/base",
          "model_name": "LayoutModel",
          "model_module_version": "1.2.0",
          "state": {
            "_model_module": "@jupyter-widgets/base",
            "_model_module_version": "1.2.0",
            "_model_name": "LayoutModel",
            "_view_count": null,
            "_view_module": "@jupyter-widgets/base",
            "_view_module_version": "1.2.0",
            "_view_name": "LayoutView",
            "align_content": null,
            "align_items": null,
            "align_self": null,
            "border": null,
            "bottom": null,
            "display": null,
            "flex": null,
            "flex_flow": null,
            "grid_area": null,
            "grid_auto_columns": null,
            "grid_auto_flow": null,
            "grid_auto_rows": null,
            "grid_column": null,
            "grid_gap": null,
            "grid_row": null,
            "grid_template_areas": null,
            "grid_template_columns": null,
            "grid_template_rows": null,
            "height": null,
            "justify_content": null,
            "justify_items": null,
            "left": null,
            "margin": null,
            "max_height": null,
            "max_width": null,
            "min_height": null,
            "min_width": null,
            "object_fit": null,
            "object_position": null,
            "order": null,
            "overflow": null,
            "overflow_x": null,
            "overflow_y": null,
            "padding": null,
            "right": null,
            "top": null,
            "visibility": null,
            "width": null
          }
        },
        "24ad3b5af76c4e8e84639e363678155c": {
          "model_module": "@jupyter-widgets/controls",
          "model_name": "ProgressStyleModel",
          "model_module_version": "1.5.0",
          "state": {
            "_model_module": "@jupyter-widgets/controls",
            "_model_module_version": "1.5.0",
            "_model_name": "ProgressStyleModel",
            "_view_count": null,
            "_view_module": "@jupyter-widgets/base",
            "_view_module_version": "1.2.0",
            "_view_name": "StyleView",
            "bar_color": null,
            "description_width": ""
          }
        },
        "6e292b5338b649d382092b940fc190e1": {
          "model_module": "@jupyter-widgets/base",
          "model_name": "LayoutModel",
          "model_module_version": "1.2.0",
          "state": {
            "_model_module": "@jupyter-widgets/base",
            "_model_module_version": "1.2.0",
            "_model_name": "LayoutModel",
            "_view_count": null,
            "_view_module": "@jupyter-widgets/base",
            "_view_module_version": "1.2.0",
            "_view_name": "LayoutView",
            "align_content": null,
            "align_items": null,
            "align_self": null,
            "border": null,
            "bottom": null,
            "display": null,
            "flex": null,
            "flex_flow": null,
            "grid_area": null,
            "grid_auto_columns": null,
            "grid_auto_flow": null,
            "grid_auto_rows": null,
            "grid_column": null,
            "grid_gap": null,
            "grid_row": null,
            "grid_template_areas": null,
            "grid_template_columns": null,
            "grid_template_rows": null,
            "height": null,
            "justify_content": null,
            "justify_items": null,
            "left": null,
            "margin": null,
            "max_height": null,
            "max_width": null,
            "min_height": null,
            "min_width": null,
            "object_fit": null,
            "object_position": null,
            "order": null,
            "overflow": null,
            "overflow_x": null,
            "overflow_y": null,
            "padding": null,
            "right": null,
            "top": null,
            "visibility": null,
            "width": null
          }
        },
        "7b7b4194824e4c7da04fcff1c0a4e31f": {
          "model_module": "@jupyter-widgets/controls",
          "model_name": "DescriptionStyleModel",
          "model_module_version": "1.5.0",
          "state": {
            "_model_module": "@jupyter-widgets/controls",
            "_model_module_version": "1.5.0",
            "_model_name": "DescriptionStyleModel",
            "_view_count": null,
            "_view_module": "@jupyter-widgets/base",
            "_view_module_version": "1.2.0",
            "_view_name": "StyleView",
            "description_width": ""
          }
        }
      }
    }
  },
  "nbformat": 4,
  "nbformat_minor": 0
}